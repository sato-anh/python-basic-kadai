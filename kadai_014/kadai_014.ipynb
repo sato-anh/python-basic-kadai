{
  "nbformat": 4,
  "nbformat_minor": 0,
  "metadata": {
    "colab": {
      "provenance": []
    },
    "kernelspec": {
      "name": "python3",
      "display_name": "Python 3"
    },
    "language_info": {
      "name": "python"
    }
  },
  "cells": [
    {
      "cell_type": "code",
      "execution_count": 5,
      "metadata": {
        "colab": {
          "base_uri": "https://localhost:8080/"
        },
        "id": "bKlmvPGiROR4",
        "outputId": "bb717640-23f2-4f9d-d39c-6b876118f7ef"
      },
      "outputs": [
        {
          "output_type": "stream",
          "name": "stdout",
          "text": [
            "330.0\n"
          ]
        }
      ],
      "source": [
        "def total():\n",
        "\n",
        "  price1 = 100\n",
        "  price2 = 200\n",
        "  return price1 + price2\n",
        "\n",
        "tax = 1.1\n",
        "print (total() * tax)"
      ]
    }
  ]
}