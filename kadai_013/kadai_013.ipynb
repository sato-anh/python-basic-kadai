{
  "nbformat": 4,
  "nbformat_minor": 0,
  "metadata": {
    "colab": {
      "provenance": []
    },
    "kernelspec": {
      "name": "python3",
      "display_name": "Python 3"
    },
    "language_info": {
      "name": "python"
    }
  },
  "cells": [
    {
      "cell_type": "code",
      "execution_count": 10,
      "metadata": {
        "colab": {
          "base_uri": "https://localhost:8080/"
        },
        "id": "zEmXUij2Lajg",
        "outputId": "ee8906eb-dd0b-44a4-8fcf-6ca01dffc489"
      },
      "outputs": [
        {
          "output_type": "stream",
          "name": "stdout",
          "text": [
            "121.0円\n"
          ]
        }
      ],
      "source": [
        "def calcurate_total_price(price: int, tax_rate: int) -> int:\n",
        "  tax_amount = price * (tax_rate / 100)\n",
        "  total_price = price + tax_amount\n",
        "\n",
        "  print(f\"{total_price}円\")\n",
        "  return total_price\n",
        "\n",
        "calcurate_total_price(110, 10);"
      ]
    }
  ]
}